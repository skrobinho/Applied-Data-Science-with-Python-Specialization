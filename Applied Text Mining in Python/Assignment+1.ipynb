{
 "cells": [
  {
   "cell_type": "markdown",
   "metadata": {},
   "source": [
    "---\n",
    "\n",
    "_You are currently looking at **version 1.1** of this notebook. To download notebooks and datafiles, as well as get help on Jupyter notebooks in the Coursera platform, visit the [Jupyter Notebook FAQ](https://www.coursera.org/learn/python-text-mining/resources/d9pwm) course resource._\n",
    "\n",
    "---"
   ]
  },
  {
   "cell_type": "markdown",
   "metadata": {},
   "source": [
    "# Assignment 1\n",
    "\n",
    "In this assignment, you'll be working with messy medical data and using regex to extract relevant infromation from the data. \n",
    "\n",
    "Each line of the `dates.txt` file corresponds to a medical note. Each note has a date that needs to be extracted, but each date is encoded in one of many formats.\n",
    "\n",
    "The goal of this assignment is to correctly identify all of the different date variants encoded in this dataset and to properly normalize and sort the dates. \n",
    "\n",
    "Here is a list of some of the variants you might encounter in this dataset:\n",
    "* 04/20/2009; 04/20/09; 4/20/09; 4/3/09\n",
    "* Mar-20-2009; Mar 20, 2009; March 20, 2009;  Mar. 20, 2009; Mar 20 2009;\n",
    "* 20 Mar 2009; 20 March 2009; 20 Mar. 2009; 20 March, 2009\n",
    "* Mar 20th, 2009; Mar 21st, 2009; Mar 22nd, 2009\n",
    "* Feb 2009; Sep 2009; Oct 2010\n",
    "* 6/2008; 12/2009\n",
    "* 2009; 2010\n",
    "\n",
    "Once you have extracted these date patterns from the text, the next step is to sort them in ascending chronological order accoring to the following rules:\n",
    "* Assume all dates in xx/xx/xx format are mm/dd/yy\n",
    "* Assume all dates where year is encoded in only two digits are years from the 1900's (e.g. 1/5/89 is January 5th, 1989)\n",
    "* If the day is missing (e.g. 9/2009), assume it is the first day of the month (e.g. September 1, 2009).\n",
    "* If the month is missing (e.g. 2010), assume it is the first of January of that year (e.g. January 1, 2010).\n",
    "* Watch out for potential typos as this is a raw, real-life derived dataset.\n",
    "\n",
    "With these rules in mind, find the correct date in each note and return a pandas Series in chronological order of the original Series' indices.\n",
    "\n",
    "For example if the original series was this:\n",
    "\n",
    "    0    1999\n",
    "    1    2010\n",
    "    2    1978\n",
    "    3    2015\n",
    "    4    1985\n",
    "\n",
    "Your function should return this:\n",
    "\n",
    "    0    2\n",
    "    1    4\n",
    "    2    0\n",
    "    3    1\n",
    "    4    3\n",
    "\n",
    "Your score will be calculated using [Kendall's tau](https://en.wikipedia.org/wiki/Kendall_rank_correlation_coefficient), a correlation measure for ordinal data.\n",
    "\n",
    "*This function should return a Series of length 500 and dtype int.*"
   ]
  },
  {
   "cell_type": "code",
   "execution_count": null,
   "metadata": {},
   "outputs": [],
   "source": [
    "import pandas as pd\n",
    "\n",
    "doc = []\n",
    "with open('dates.txt') as file:\n",
    "    for line in file:\n",
    "        doc.append(line)\n",
    "\n",
    "df = pd.Series(doc)\n",
    "df.head(10)"
   ]
  },
  {
   "cell_type": "code",
   "execution_count": null,
   "metadata": {
    "collapsed": true
   },
   "outputs": [],
   "source": [
    "def date_sorter():\n",
    "    \n",
    "    # Your code here\n",
    "    #First variants of notation\n",
    "    df1 = df.str.extractall(r'(?P<full>(?P<month>\\d{1,2})[-/](?P<day>([0-2]?[0-9])|([3][01]))[-/](?P<year>\\d{2,4}))')\n",
    "    dates = df1.drop([3, 4], axis=1)\n",
    "    indexes_left = ~df.index.isin([x[0] for x in dates.index])\n",
    "    \n",
    "    #Second variants of notation\n",
    "    df2 = df[indexes_left].str.extractall(r'(?P<full>(?P<month>(?:Jan|Feb|Mar|Apr|May|Jun|Jul|Aug|Sep|Oct|Nov|Dec)[a-z]*)[.-]?[ ]?(?P<day>\\d{1,2})[,]?[- ]?(?P<year>\\d{4}))')\n",
    "    dates = dates.append(df2)\n",
    "    indexes_left = ~df.index.isin([x[0] for x in dates.index])\n",
    "    \n",
    "    #Third variant of notation\n",
    "    df3 = df[indexes_left].str.extractall(r'(?P<full>(?P<day>\\d{1,2}) (?P<month>(?:Jan|Feb|Mar|Apr|May|Jun|Jul|Aug|Sep|Oct|Nov|Dec))[a-z]*[.,]? (?P<year>\\d{4}))')\n",
    "    dates = dates.append(df3)\n",
    "    indexes_left = ~df.index.isin([x[0] for x in dates.index])\n",
    "    \n",
    "    #Fourth varaint od notation\n",
    "    df4 = df[indexes_left].str.extractall(r'(?P<full>(?P<month>(?:Jan|Feb|Mar|Apr|May|Jun|Jul|Aug|Sep|Oct|Nov|Dec))[a-z]*[.,]? (?P<day>\\d{1,2}\\w{2}), (?P<year>\\d{2,4}))')\n",
    "    dates = dates.append(df4)\n",
    "    indexes_left = ~df.index.isin([x[0] for x in dates.index])\n",
    "    \n",
    "    #Fifth variant of notation\n",
    "    df5 = df[indexes_left].str.extractall(r'(?P<full>(?P<month>(?:Jan|Feb|Mar|Apr|May|Jun|Jul|Aug|Sep|Oct|Nov|Dec))[a-z]*[.,]? (?P<year>\\d{2,4}))')\n",
    "    dates = dates.append(df5)\n",
    "    indexes_left = ~df.index.isin([x[0] for x in dates.index])\n",
    "    \n",
    "    #Sixth variant of notation\n",
    "    df6 = df[indexes_left].str.extractall(r'(?P<full>(?P<month>\\d{1,2})/(?P<year>\\d{2,4}))')\n",
    "    dates = dates.append(df6)\n",
    "    indexes_left = ~df.index.isin([x[0] for x in dates.index])\n",
    "    \n",
    "    #Seventh variant of notation\n",
    "    df7 = df[indexes_left].str.extractall(r'(?P<full>(?P<year>\\d{4}))')\n",
    "    dates = dates.append(df7)\n",
    "    indexes_left = ~df.index.isin([x[0] for x in dates.index])\n",
    "    \n",
    "    #Filling NaN\n",
    "    dates = dates.fillna(1)\n",
    "    \n",
    "    #Notation unifying\n",
    "    dates['year'] = dates['year'].apply(lambda x: str(x)).apply(lambda x: '19' + x if len(x) == 2 else x)\n",
    "    dates['month'] = dates['month'].apply(lambda x: str(x)).apply(lambda x: '0' + x if len(x) == 1 else x)\n",
    "    dates['day'] = dates['day'].apply(lambda x: str(x)).apply(lambda x: '0' + x if len(x) == 1 else x)\n",
    "    \n",
    "    months = dict({'Jan': '01', 'January': '01', 'Feb': '02', 'February': '02', 'Mar': '03', 'March': '03', 'Apr': '04',\n",
    "               'April': '04', 'May': '05', 'Jun': '06', 'June': '06', 'Jul': '07', 'July': '07', 'Aug': '08', 'August': '08', \n",
    "              'Sep': '09', 'September': '09', 'Oct': '10', 'October': '10', 'Nov': '11', 'November': '11', \n",
    "              'Dec': '12', 'December': '12'})\n",
    "\n",
    "    dates.replace({\"month\": months}, inplace=True)\n",
    "    \n",
    "    #Full converted dates to timestamps\n",
    "    dates['date'] = dates['month'] + '/' + dates['day'] + '/' + dates['year']\n",
    "    dates['date'] = pd.to_datetime(dates['date'])\n",
    "    dates = dates.reset_index(drop=True)['date']\n",
    "    \n",
    "    #Sorted dates\n",
    "    sorted_dates = pd.Series(dates.sort_values().index)\n",
    "    \n",
    "    \n",
    "    return sorted_dates"
   ]
  },
  {
   "cell_type": "code",
   "execution_count": null,
   "metadata": {
    "collapsed": true
   },
   "outputs": [],
   "source": [
    "date_sorter();"
   ]
  }
 ],
 "metadata": {
  "coursera": {
   "course_slug": "python-text-mining",
   "graded_item_id": "LvcWI",
   "launcher_item_id": "krne9",
   "part_id": "Mkp1I"
  },
  "kernelspec": {
   "display_name": "Python 3",
   "language": "python",
   "name": "python3"
  },
  "language_info": {
   "codemirror_mode": {
    "name": "ipython",
    "version": 3
   },
   "file_extension": ".py",
   "mimetype": "text/x-python",
   "name": "python",
   "nbconvert_exporter": "python",
   "pygments_lexer": "ipython3",
   "version": "3.6.2"
  }
 },
 "nbformat": 4,
 "nbformat_minor": 2
}
